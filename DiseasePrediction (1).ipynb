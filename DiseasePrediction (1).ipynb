{
 "cells": [
  {
   "cell_type": "code",
   "execution_count": 1,
   "id": "3fa05785-7c8d-4eaf-ac85-2a15bc8a17d7",
   "metadata": {},
   "outputs": [],
   "source": [
    "#importing necessary libraries"
   ]
  },
  {
   "cell_type": "code",
   "execution_count": null,
   "id": "ca071d85-ef61-492f-b5e6-e9eed6e39975",
   "metadata": {},
   "outputs": [],
   "source": [
    "import numpy as np\n",
    "import pandas as pd\n",
    "import matplotlib.pyplot as plt\n",
    "import scipy as sc\n",
    "import sklearn as sk\n",
    "import seaborn as sns"
   ]
  },
  {
   "cell_type": "code",
   "execution_count": null,
   "id": "8b609f8b-43cd-4fec-93fd-06b0e2f1c638",
   "metadata": {},
   "outputs": [],
   "source": [
    "#Reading data set"
   ]
  },
  {
   "cell_type": "code",
   "execution_count": null,
   "id": "d895f523-3503-4df1-b881-ad8b42830c29",
   "metadata": {},
   "outputs": [],
   "source": [
    "df = pd.read_csv('test_data.csv')"
   ]
  },
  {
   "cell_type": "code",
   "execution_count": null,
   "id": "9d7be064-7c1f-416d-9f66-8c74bc372a43",
   "metadata": {},
   "outputs": [],
   "source": [
    "#Scanning the data frame"
   ]
  },
  {
   "cell_type": "code",
   "execution_count": null,
   "id": "9fc84f14-5d84-4c8c-b115-22b6233884c2",
   "metadata": {},
   "outputs": [],
   "source": [
    "df.head()"
   ]
  },
  {
   "cell_type": "code",
   "execution_count": null,
   "id": "1a37005f-2d2d-4cc0-8224-e4ab23f0600c",
   "metadata": {},
   "outputs": [],
   "source": [
    "#dimensions"
   ]
  },
  {
   "cell_type": "code",
   "execution_count": null,
   "id": "c5c80078-fdeb-480e-b183-26960ddb8483",
   "metadata": {},
   "outputs": [],
   "source": [
    "df.shape"
   ]
  },
  {
   "cell_type": "code",
   "execution_count": null,
   "id": "44050be7-55d5-4b5e-8647-6233672d9635",
   "metadata": {},
   "outputs": [],
   "source": [
    "# Calculate skewness for numerical columns\n",
    "import matplotlib.pyplot as plt\n",
    "skewness = df.select_dtypes(include=['int64', 'float64']).skew()\n",
    "\n",
    "# Count the number of numerical columns\n",
    "num_cols_count = len(df.select_dtypes(include=['int64', 'float64']).columns)\n",
    "\n",
    "# Determine the layout for subplots\n",
    "num_rows = (num_cols_count + 3) // 4  # Adjust the number of columns in each row\n",
    "num_cols = min(4, num_cols_count)  # Maximum of 4 columns in each row\n",
    "\n",
    "# Plot histograms for numerical columns to visualize distributions and identify anomalies\n",
    "fig, axes = plt.subplots(num_rows, num_cols, figsize=(15, 10))\n",
    "\n",
    "for i in range(num_rows):\n",
    "    for j in range(num_cols):\n",
    "        col_idx = i * num_cols + j\n",
    "        if col_idx < num_cols_count:\n",
    "            col = df.select_dtypes(include=['int64', 'float64']).columns[col_idx]\n",
    "            axes[i, j].hist(df[col], bins=15, color='green', alpha=0.7)\n",
    "            axes[i, j].set_title(f'{col}')\n",
    "            axes[i, j].set_xlabel(col)\n",
    "            axes[i, j].set_ylabel('Frequency')\n",
    "            \n",
    "            # Compute skewness\n",
    "            skew_val = skewness[col]\n",
    "            \n",
    "            # Plot skewness value in the center of plot\n",
    "            axes[i, j].text(0.5, 0.5, f'Skewness: {skew_val:.2f}', horizontalalignment='center',\n",
    "                            verticalalignment='center', transform=axes[i, j].transAxes, fontsize=10, color='red')\n",
    "\n",
    "plt.tight_layout()\n",
    "plt.show()\n",
    "\n",
    "# Print skewness values\n",
    "print(\"Skewness:\")\n",
    "print(skewness)"
   ]
  },
  {
   "cell_type": "code",
   "execution_count": null,
   "id": "a1a9964a-40d1-41b3-9af9-66f80832c86e",
   "metadata": {},
   "outputs": [],
   "source": [
    "df.plot(kind='box', rot=45,color='green')\n",
    "\n",
    "# Show the plot\n",
    "plt.show()"
   ]
  },
  {
   "cell_type": "code",
   "execution_count": null,
   "id": "c0eef75b-1ea6-4afa-b0c1-c080156d52b9",
   "metadata": {},
   "outputs": [],
   "source": [
    "numeric_cols = df.select_dtypes(include=['int64', 'float64']).columns\n",
    "\n",
    "# Plotting boxplots for each numerical feature to identify outliers\n",
    "for column in numeric_cols:\n",
    "    plt.figure(figsize=(10, 6))\n",
    "    sns.boxplot(x=df[column])\n",
    "    plt.title(f'Boxplot of {column}')\n",
    "    plt.show()"
   ]
  },
  {
   "cell_type": "code",
   "execution_count": null,
   "id": "9c95e305-8acd-455d-9715-be990885b59a",
   "metadata": {},
   "outputs": [],
   "source": [
    "df.info()"
   ]
  },
  {
   "cell_type": "code",
   "execution_count": null,
   "id": "e4cf4c6d-0cad-4005-a2a0-b218965682ba",
   "metadata": {},
   "outputs": [],
   "source": [
    "pd.set_option('display.float_format', lambda x: '%.3f' % x)\n",
    "df.describe().transpose()"
   ]
  },
  {
   "cell_type": "code",
   "execution_count": null,
   "id": "65d4062c-9d54-44dc-88e2-d0a9dedfe365",
   "metadata": {},
   "outputs": [],
   "source": [
    "#Finding missing value"
   ]
  },
  {
   "cell_type": "code",
   "execution_count": null,
   "id": "7ce36368-751d-4383-87d7-7501f8bf94cd",
   "metadata": {},
   "outputs": [],
   "source": [
    "df.isnull()"
   ]
  },
  {
   "cell_type": "code",
   "execution_count": null,
   "id": "4931dab1-1518-415b-9ad0-fb8780cdfde7",
   "metadata": {},
   "outputs": [],
   "source": [
    "#Which columns are missing values and what is the extent of missingness??"
   ]
  },
  {
   "cell_type": "code",
   "execution_count": null,
   "id": "97d353a0-7824-476c-b77c-e0415a956292",
   "metadata": {},
   "outputs": [],
   "source": [
    "df.isnull().sum()/len(df)*100"
   ]
  },
  {
   "cell_type": "code",
   "execution_count": null,
   "id": "d3737112-6be8-42c3-9c50-d3afc3a53496",
   "metadata": {},
   "outputs": [],
   "source": [
    "import missingno as msno"
   ]
  },
  {
   "cell_type": "code",
   "execution_count": null,
   "id": "c34033ba-32c9-4fe5-bb08-df7bb35c39fb",
   "metadata": {},
   "outputs": [],
   "source": [
    "msno.bar(df)\n",
    "plt.show()"
   ]
  },
  {
   "cell_type": "code",
   "execution_count": null,
   "id": "2dc7f5a6-f3fc-4bdf-957d-537c6655a957",
   "metadata": {},
   "outputs": [],
   "source": [
    "msno.matrix(df)\n",
    "plt.show()"
   ]
  },
  {
   "cell_type": "code",
   "execution_count": null,
   "id": "ce3193e3-94be-4030-a093-79129d2246e8",
   "metadata": {},
   "outputs": [],
   "source": [
    "df.duplicated().sum()"
   ]
  },
  {
   "cell_type": "code",
   "execution_count": null,
   "id": "45f276db-d6cd-482b-8163-532ca95a0871",
   "metadata": {},
   "outputs": [],
   "source": [
    "#Data processing"
   ]
  },
  {
   "cell_type": "code",
   "execution_count": null,
   "id": "09d14bcc-125f-48d9-a2f9-a0fc40f205ae",
   "metadata": {},
   "outputs": [],
   "source": [
    " cate_val =[]\n",
    "cont_val = []\n",
    "for column in df.columns:\n",
    "    if df[column].nunique() <= 10:\n",
    "        cate_val.append(column)\n",
    "    else:\n",
    "        cont_val.append(column)"
   ]
  },
  {
   "cell_type": "code",
   "execution_count": null,
   "id": "61732cd1-45c9-4513-adee-320d2ed4e186",
   "metadata": {},
   "outputs": [],
   "source": [
    "cate_val"
   ]
  },
  {
   "cell_type": "code",
   "execution_count": null,
   "id": "af49d419-ea86-43ec-b6e1-65273031ade4",
   "metadata": {},
   "outputs": [],
   "source": [
    "df['Disease'].unique()"
   ]
  },
  {
   "cell_type": "code",
   "execution_count": null,
   "id": "bf6ec4ec-317e-4fe1-8885-7c2330422e63",
   "metadata": {},
   "outputs": [],
   "source": [
    "pd.get_dummies(df,columns = cate_val, drop_first = True)"
   ]
  },
  {
   "cell_type": "code",
   "execution_count": null,
   "id": "5ef037fc-5e68-460b-870e-e8cb00e3f71e",
   "metadata": {},
   "outputs": [],
   "source": [
    "#Correlation matrix"
   ]
  },
  {
   "cell_type": "code",
   "execution_count": null,
   "id": "b2e952ca-6bfb-4d36-ac0a-93cf1661e06a",
   "metadata": {},
   "outputs": [],
   "source": [
    "import matplotlib.pyplot as plt\n",
    "cnames = ['Glucose','Cholesterol','Hemoglobin',\t'Platelets','White Blood Cells','Red Blood Cells']\n",
    "f, ax = plt.subplots(figsize=(7, 5))\n",
    "\n",
    "#Correlation plot\n",
    "df_corr = df.loc[:,cnames]\n",
    "#Generate correlation matrix\n",
    "corr = df_corr.corr()\n",
    "\n",
    "#Plot using seaborn library\n",
    "sns.heatmap(corr, annot = True, cmap='coolwarm',linewidths=.1)\n",
    "plt.show()"
   ]
  },
  {
   "cell_type": "code",
   "execution_count": null,
   "id": "2b74a464-ff6d-471e-8b6d-20b1c483307f",
   "metadata": {},
   "outputs": [],
   "source": [
    "#Feature Scaling"
   ]
  },
  {
   "cell_type": "code",
   "execution_count": null,
   "id": "c37200df-fba7-433f-ab5f-c329d0d1f664",
   "metadata": {},
   "outputs": [],
   "source": [
    "from sklearn.preprocessing import StandardScaler\n",
    "st = StandardScaler()\n",
    "df[cont_val] = st.fit_transform(df[cont_val])"
   ]
  },
  {
   "cell_type": "code",
   "execution_count": null,
   "id": "739bc104-e355-4f2b-825c-4aab19f2fd18",
   "metadata": {},
   "outputs": [],
   "source": [
    "df.head()"
   ]
  },
  {
   "cell_type": "code",
   "execution_count": null,
   "id": "614a6f5b-a2f2-4a59-b20c-b63b3acf965d",
   "metadata": {},
   "outputs": [],
   "source": [
    "#Splitting the dataset into training and test set"
   ]
  },
  {
   "cell_type": "code",
   "execution_count": null,
   "id": "c31cb00b-b509-4993-aea6-fd5481a00449",
   "metadata": {},
   "outputs": [],
   "source": [
    "X = df.iloc[:, :-1].values  \n",
    "y = df.iloc[:, -1].values\n",
    "from sklearn.model_selection import train_test_split"
   ]
  },
  {
   "cell_type": "code",
   "execution_count": null,
   "id": "a98f9a9f-70b7-4711-91fe-8fc158108fc0",
   "metadata": {},
   "outputs": [],
   "source": [
    "X_train, X_test, y_train, y_test = train_test_split(X, y,test_size = 0.2, random_state = 42)"
   ]
  },
  {
   "cell_type": "code",
   "execution_count": null,
   "id": "ec8fd216-c684-43fe-b0cb-a1392824340c",
   "metadata": {},
   "outputs": [],
   "source": [
    "X_test"
   ]
  },
  {
   "cell_type": "code",
   "execution_count": null,
   "id": "39ae40a9-4243-4e6e-8593-fe54dac1850c",
   "metadata": {},
   "outputs": [],
   "source": [
    "y_test"
   ]
  },
  {
   "cell_type": "code",
   "execution_count": null,
   "id": "5f7be420-daa8-4a5e-9aec-0a54047b21c1",
   "metadata": {},
   "outputs": [],
   "source": [
    "#Logisitc regression"
   ]
  },
  {
   "cell_type": "code",
   "execution_count": null,
   "id": "b4ff3546-4e67-4a9b-a40a-b4b272e9a424",
   "metadata": {},
   "outputs": [],
   "source": [
    "from sklearn.linear_model import LogisticRegression\n",
    "log = LogisticRegression()\n",
    "log.fit(X_train,y_train)"
   ]
  },
  {
   "cell_type": "code",
   "execution_count": null,
   "id": "215fc9f7-c593-41e4-be4e-29ddc0b0af3b",
   "metadata": {},
   "outputs": [],
   "source": [
    "y_pred1 = log.predict(X_test)"
   ]
  },
  {
   "cell_type": "code",
   "execution_count": null,
   "id": "9b6074e0-b4d5-4243-b14e-08a9a5ae64fd",
   "metadata": {},
   "outputs": [],
   "source": [
    "#CONFUSION MATRIX"
   ]
  },
  {
   "cell_type": "code",
   "execution_count": null,
   "id": "5ceec210-7cc6-487d-b4b6-9d6c5a312141",
   "metadata": {},
   "outputs": [],
   "source": [
    "from sklearn.metrics import confusion_matrix\n",
    "matrix= confusion_matrix(y_test, y_pred1)\n",
    "sns.heatmap(matrix,annot = True, fmt = \"d\")"
   ]
  },
  {
   "cell_type": "code",
   "execution_count": null,
   "id": "963f62ae-3baf-47fd-ac6f-832e397c4b0e",
   "metadata": {},
   "outputs": [],
   "source": [
    "from sklearn.metrics import precision_score\n",
    "precision = precision_score(y_test, y_pred1,\n",
    "                            pos_label='positive',\n",
    "                                           average='micro')\n",
    "print(\"Precision: \",precision)\n",
    "\n",
    "from sklearn.metrics import recall_score\n",
    "recall = recall_score(y_test, y_pred1, pos_label='positive',\n",
    "                                           average='micro')\n",
    "print(\"Recall is: \",recall)"
   ]
  },
  {
   "cell_type": "code",
   "execution_count": null,
   "id": "3b8660cc-7d7f-48d7-9961-15351da613f1",
   "metadata": {},
   "outputs": [],
   "source": []
  },
  {
   "cell_type": "code",
   "execution_count": null,
   "id": "c9434565-9638-4201-afac-fc9765566e43",
   "metadata": {},
   "outputs": [],
   "source": [
    "#F- Score\n",
    "print((2*precision*recall)/(precision+recall))"
   ]
  },
  {
   "cell_type": "code",
   "execution_count": null,
   "id": "ed11acda-1cef-4f9a-b53c-4089d66e2d16",
   "metadata": {},
   "outputs": [],
   "source": [
    "from sklearn.metrics import accuracy_score\n",
    "accuracy_score(y_test ,y_pred1)"
   ]
  },
  {
   "cell_type": "code",
   "execution_count": null,
   "id": "59fc2542-91b5-462c-a7ee-4780c18a4278",
   "metadata": {},
   "outputs": [],
   "source": [
    "#SVC"
   ]
  },
  {
   "cell_type": "code",
   "execution_count": null,
   "id": "370f5980-63fd-4143-a94b-c8a414792253",
   "metadata": {},
   "outputs": [],
   "source": []
  },
  {
   "cell_type": "code",
   "execution_count": null,
   "id": "8e621b7a-4c64-48ce-b03e-91f2654166ec",
   "metadata": {},
   "outputs": [],
   "source": [
    "from sklearn import svm\n",
    "svm = svm.SVC()\n",
    "svm.fit(X_train,y_train)"
   ]
  },
  {
   "cell_type": "code",
   "execution_count": null,
   "id": "1f57776c-e2eb-4391-8fd6-47b34f8022b4",
   "metadata": {},
   "outputs": [],
   "source": [
    "y_pred2 = svm.predict(X_test)\n",
    "accuracy_score(y_test ,y_pred2)"
   ]
  },
  {
   "cell_type": "code",
   "execution_count": null,
   "id": "2404ee0b-afd4-4f4f-8ecf-25ba8d3547f4",
   "metadata": {},
   "outputs": [],
   "source": [
    "from sklearn.metrics import confusion_matrix\n",
    "matrix= confusion_matrix(y_test, y_pred2)\n",
    "sns.heatmap(matrix,annot = True, fmt = \"d\")"
   ]
  },
  {
   "cell_type": "code",
   "execution_count": null,
   "id": "b728bab5-b803-412c-949f-6c1756dfc726",
   "metadata": {},
   "outputs": [],
   "source": [
    "from sklearn.metrics import precision_score\n",
    "precision = precision_score(y_test, y_pred2,\n",
    "                            pos_label='positive',\n",
    "                                           average='micro')\n",
    "print(\"Precision: \",precision)\n",
    "\n",
    "from sklearn.metrics import recall_score\n",
    "recall = recall_score(y_test, y_pred2, pos_label='positive',\n",
    "                                           average='micro')\n",
    "print(\"Recall is: \",recall)"
   ]
  },
  {
   "cell_type": "code",
   "execution_count": null,
   "id": "95411017-5d8a-4bae-8dfb-4590f85ba577",
   "metadata": {},
   "outputs": [],
   "source": [
    "#F- Score\n",
    "print((2*precision*recall)/(precision+recall))"
   ]
  },
  {
   "cell_type": "code",
   "execution_count": null,
   "id": "3a1ff34c-0543-46d2-a125-bcc3f89ef883",
   "metadata": {},
   "outputs": [],
   "source": [
    "# K Neighbours Classifier"
   ]
  },
  {
   "cell_type": "code",
   "execution_count": null,
   "id": "c5c56362-bb15-47c5-8511-99789520e662",
   "metadata": {},
   "outputs": [],
   "source": [
    "from sklearn.neighbors import KNeighborsClassifier\n",
    "knn = KNeighborsClassifier()\n",
    "knn.fit(X_train,y_train)"
   ]
  },
  {
   "cell_type": "code",
   "execution_count": null,
   "id": "128f93b2-e259-4c25-8fea-468f9894bdba",
   "metadata": {},
   "outputs": [],
   "source": [
    "y_pred3 = knn.predict(X_test)\n",
    "accuracy_score(y_test ,y_pred3)"
   ]
  },
  {
   "cell_type": "code",
   "execution_count": null,
   "id": "e8a73897-0137-4b39-99a0-205e93f1aba2",
   "metadata": {},
   "outputs": [],
   "source": [
    "from sklearn.metrics import confusion_matrix\n",
    "matrix= confusion_matrix(y_test, y_pred3)\n",
    "sns.heatmap(matrix,annot = True, fmt = \"d\")"
   ]
  },
  {
   "cell_type": "code",
   "execution_count": null,
   "id": "d9432573-3b0f-4abd-bb5d-f8574d2339a3",
   "metadata": {},
   "outputs": [],
   "source": [
    "score = []\n",
    "for k in range(1,40):\n",
    "    knn = KNeighborsClassifier(n_neighbors = k)\n",
    "    knn.fit(X_train,y_train)\n",
    "    y_pred = knn.predict(X_test)\n",
    "    score.append(accuracy_score(y_test,y_pred))\n",
    "    "
   ]
  },
  {
   "cell_type": "code",
   "execution_count": null,
   "id": "be7f77cb-7450-4acd-b33c-e8e8cf1abd2f",
   "metadata": {},
   "outputs": [],
   "source": [
    "score"
   ]
  },
  {
   "cell_type": "code",
   "execution_count": null,
   "id": "2dd82d89-41d6-4958-b019-b025e0738cbf",
   "metadata": {},
   "outputs": [],
   "source": [
    "knn = KNeighborsClassifier(n_neighbors = 7)\n",
    "knn.fit(X_train,y_train)\n",
    "y_pred = knn.predict(X_test)\n",
    "accuracy_score(y_test,y_pred)\n",
    "    "
   ]
  },
  {
   "cell_type": "code",
   "execution_count": null,
   "id": "bd3d9ade-0a71-4be8-91e8-1ac74229eb28",
   "metadata": {},
   "outputs": [],
   "source": [
    "#Precision and Recall score"
   ]
  },
  {
   "cell_type": "code",
   "execution_count": null,
   "id": "1bdf8350-1bd9-4af4-905f-9c006c99c5a5",
   "metadata": {},
   "outputs": [],
   "source": [
    "from sklearn.metrics import precision_score\n",
    "precision = precision_score(y_test, y_pred3,\n",
    "                            pos_label='positive',\n",
    "                                           average='micro')\n",
    "print(\"Precision: \",precision)\n",
    "\n",
    "from sklearn.metrics import recall_score\n",
    "recall = recall_score(y_test, y_pred3, pos_label='positive',\n",
    "                                           average='micro')\n",
    "print(\"Recall is: \",recall)"
   ]
  },
  {
   "cell_type": "code",
   "execution_count": null,
   "id": "b897a7f2-f1cf-4204-a270-63153f401e56",
   "metadata": {},
   "outputs": [],
   "source": [
    "#F-Score\n",
    "print((2*precision*recall)/(precision+recall))"
   ]
  },
  {
   "cell_type": "code",
   "execution_count": null,
   "id": "f11e2dd0-a991-4982-892f-0570f8c9fe94",
   "metadata": {},
   "outputs": [],
   "source": [
    "#Non-linear ML algorithms"
   ]
  },
  {
   "cell_type": "code",
   "execution_count": null,
   "id": "4dbc65bc-cbbc-4675-9c5f-defdab16489d",
   "metadata": {},
   "outputs": [],
   "source": [
    "import pandas as pd\n",
    "df = pd.read_csv('test_data.csv')\n",
    "df.head()"
   ]
  },
  {
   "cell_type": "code",
   "execution_count": null,
   "id": "72bf2aaf-73b1-46db-a031-c5d1cc58d017",
   "metadata": {},
   "outputs": [],
   "source": [
    "df = df.drop_duplicates()"
   ]
  },
  {
   "cell_type": "code",
   "execution_count": null,
   "id": "a2bf9069-c759-4807-869f-64a44c3bef56",
   "metadata": {},
   "outputs": [],
   "source": [
    "X = df.iloc[:, :-1].values  \n",
    "y = df.iloc[:, -1].values\n"
   ]
  },
  {
   "cell_type": "code",
   "execution_count": null,
   "id": "55cbfbbf-c597-4cd6-9391-e17616942b51",
   "metadata": {},
   "outputs": [],
   "source": [
    "from sklearn.model_selection import train_test_split\n",
    "X_train, X_test, y_train, y_test = train_test_split(X, y,test_size = 0.2, random_state = 42)"
   ]
  },
  {
   "cell_type": "code",
   "execution_count": null,
   "id": "0ceda96e-72d6-49df-98de-e46da57d6b3f",
   "metadata": {},
   "outputs": [],
   "source": [
    "#Decision Tree Classifier"
   ]
  },
  {
   "cell_type": "code",
   "execution_count": null,
   "id": "937d12cf-7daf-4288-8d43-34ce25ed5156",
   "metadata": {},
   "outputs": [],
   "source": [
    "from sklearn.tree import DecisionTreeClassifier\n",
    "dt = DecisionTreeClassifier()\n",
    "dt.fit(X_train,y_train)"
   ]
  },
  {
   "cell_type": "code",
   "execution_count": null,
   "id": "fd287921-e25d-4421-ac78-32994e703188",
   "metadata": {},
   "outputs": [],
   "source": [
    "y_pred4 = dt.predict(X_test)\n",
    "from sklearn.metrics import accuracy_score\n",
    "accuracy_score(y_test,y_pred4)"
   ]
  },
  {
   "cell_type": "code",
   "execution_count": null,
   "id": "56cd304b-6bad-4625-9526-01afb69615c3",
   "metadata": {},
   "outputs": [],
   "source": [
    "from sklearn.metrics import confusion_matrix\n",
    "matrix= confusion_matrix(y_test, y_pred4)\n",
    "sns.heatmap(matrix,annot = True, fmt = \"d\")"
   ]
  },
  {
   "cell_type": "code",
   "execution_count": null,
   "id": "afb83804-5ca1-485c-a44c-399247fd5872",
   "metadata": {},
   "outputs": [],
   "source": [
    "from sklearn.metrics import precision_score\n",
    "precision = precision_score(y_test, y_pred4,\n",
    "                            pos_label='positive',\n",
    "                                           average='micro')\n",
    "print(\"Precision: \",precision)\n",
    "\n",
    "from sklearn.metrics import recall_score\n",
    "recall = recall_score(y_test, y_pred4, pos_label='positive',\n",
    "                                           average='micro')\n",
    "print(\"Recall is: \",recall)"
   ]
  },
  {
   "cell_type": "code",
   "execution_count": null,
   "id": "c8b1fd59-43ed-4198-853e-8f5a500badc8",
   "metadata": {},
   "outputs": [],
   "source": [
    "#F-Score\n",
    "print((2*precision*recall)/(precision+recall))"
   ]
  },
  {
   "cell_type": "code",
   "execution_count": null,
   "id": "1207fe7c-2a9c-4098-95fe-4cf25d08191c",
   "metadata": {},
   "outputs": [],
   "source": [
    "#Random Forest Claasifier"
   ]
  },
  {
   "cell_type": "code",
   "execution_count": null,
   "id": "205fb470-2bf9-46eb-83e7-f99e8c897908",
   "metadata": {},
   "outputs": [],
   "source": [
    "from sklearn.ensemble import RandomForestClassifier\n",
    "rf = RandomForestClassifier()\n",
    "rf.fit(X_train,y_train)"
   ]
  },
  {
   "cell_type": "code",
   "execution_count": null,
   "id": "70ea2fa9-ba68-4ed0-ae62-a5872455fe5f",
   "metadata": {},
   "outputs": [],
   "source": [
    "y_pred5 = rf.predict(X_test)\n",
    "accuracy_score(y_test,y_pred5)"
   ]
  },
  {
   "cell_type": "code",
   "execution_count": null,
   "id": "0b43f5f7-5dac-43fe-96c1-d2d6f17351db",
   "metadata": {},
   "outputs": [],
   "source": [
    "from sklearn.metrics import confusion_matrix\n",
    "matrix= confusion_matrix(y_test, y_pred5)\n",
    "sns.heatmap(matrix,annot = True, fmt = \"d\")"
   ]
  },
  {
   "cell_type": "code",
   "execution_count": null,
   "id": "9a5a746a-6717-4eb7-ad4e-dfacc33ad50c",
   "metadata": {},
   "outputs": [],
   "source": [
    "from sklearn.metrics import precision_score\n",
    "precision = precision_score(y_test, y_pred5,\n",
    "                            pos_label='positive',\n",
    "                                           average='micro')\n",
    "print(\"Precision: \",precision)\n",
    "\n",
    "from sklearn.metrics import recall_score\n",
    "recall = recall_score(y_test, y_pred5, pos_label='positive',\n",
    "                                           average='micro')\n",
    "print(\"Recall is: \",recall)"
   ]
  },
  {
   "cell_type": "code",
   "execution_count": null,
   "id": "ed431c6b-5d92-4dd2-9d20-f97201ce2372",
   "metadata": {},
   "outputs": [],
   "source": [
    "#F-Score\n",
    "print((2*precision*recall)/(precision+recall))"
   ]
  },
  {
   "cell_type": "code",
   "execution_count": null,
   "id": "9bac231f-f8a4-4d4c-b112-04843b4d4e8e",
   "metadata": {},
   "outputs": [],
   "source": [
    "#Gradient Boosting Classifier"
   ]
  },
  {
   "cell_type": "code",
   "execution_count": null,
   "id": "c6372334-1f38-4c74-bde0-5394d311fb66",
   "metadata": {},
   "outputs": [],
   "source": [
    "from sklearn.ensemble import GradientBoostingClassifier\n",
    "gbc = GradientBoostingClassifier()\n",
    "gbc.fit(X_train,y_train)\n"
   ]
  },
  {
   "cell_type": "code",
   "execution_count": null,
   "id": "3ca56c9d-e78e-4afc-b29b-7f135fcb777a",
   "metadata": {},
   "outputs": [],
   "source": [
    "y_pred6 = gbc.predict(X_test)\n",
    "accuracy_score(y_test,y_pred6)"
   ]
  },
  {
   "cell_type": "code",
   "execution_count": null,
   "id": "9dafdd14-792e-4de2-86e1-03de56d47bd5",
   "metadata": {},
   "outputs": [],
   "source": [
    "from sklearn.metrics import confusion_matrix\n",
    "matrix= confusion_matrix(y_test, y_pred6)\n",
    "sns.heatmap(matrix,annot = True, fmt = \"d\")"
   ]
  },
  {
   "cell_type": "code",
   "execution_count": null,
   "id": "d87210fa-e9fb-4844-80c6-8f846c882e72",
   "metadata": {},
   "outputs": [],
   "source": [
    "from sklearn.metrics import precision_score\n",
    "precision = precision_score(y_test, y_pred6,\n",
    "                            pos_label='positive',\n",
    "                                           average='micro')\n",
    "print(\"Precision: \",precision)\n",
    "\n",
    "from sklearn.metrics import recall_score\n",
    "recall = recall_score(y_test, y_pred6, pos_label='positive',\n",
    "                                           average='micro')\n",
    "print(\"Recall is: \",recall)"
   ]
  },
  {
   "cell_type": "code",
   "execution_count": null,
   "id": "a9e1088e-5005-4eb3-8c1a-2bbf21eb7a36",
   "metadata": {},
   "outputs": [],
   "source": [
    "#F-Score\n",
    "print((2*precision*recall)/(precision+recall))"
   ]
  },
  {
   "cell_type": "code",
   "execution_count": null,
   "id": "1960d3b4-3dc8-4520-ae43-f7141eb42db0",
   "metadata": {},
   "outputs": [],
   "source": [
    "final_data = pd.DataFrame({ 'Models' : ['LR','SVM','KNN','DT','RF','GB'],\n",
    "                           'ACC':[accuracy_score(y_test,y_pred1),\n",
    "                                 accuracy_score(y_test,y_pred2),\n",
    "                                 accuracy_score(y_test,y_pred3),\n",
    "                                 accuracy_score(y_test,y_pred4),\n",
    "                                 accuracy_score(y_test,y_pred5),\n",
    "                                 accuracy_score(y_test,y_pred6)]})"
   ]
  },
  {
   "cell_type": "code",
   "execution_count": null,
   "id": "6e90c214-7f49-4cfc-b178-2a6606f99030",
   "metadata": {},
   "outputs": [],
   "source": [
    "final_data"
   ]
  },
  {
   "cell_type": "code",
   "execution_count": null,
   "id": "7ff06017-aab6-4205-9b2b-416e067be468",
   "metadata": {},
   "outputs": [],
   "source": [
    "import seaborn as sns\n"
   ]
  },
  {
   "cell_type": "code",
   "execution_count": null,
   "id": "e344c1d4-9d38-42b8-9c50-ce19037699df",
   "metadata": {},
   "outputs": [],
   "source": [
    "sns.barplot(x = final_data.Models,y = final_data.ACC,color = 'blue', palette = 'hls')"
   ]
  },
  {
   "cell_type": "code",
   "execution_count": null,
   "id": "901987cb-41f7-499e-b55a-5807cfaa939a",
   "metadata": {},
   "outputs": [],
   "source": [
    "#Predcition on new Data"
   ]
  },
  {
   "cell_type": "code",
   "execution_count": null,
   "id": "dcc8db12-dadf-4446-b5f7-08a378018f05",
   "metadata": {},
   "outputs": [],
   "source": [
    "import pandas as pd\n",
    "\n",
    "# Assuming data is provided in a CSV format or directly as a DataFrame\n",
    "data = {\n",
    "    'Glucose': [0.001827, 0.436679, 0.545697, 0.172994, 0.758534],\n",
    "    'Cholesterol': [0.033693, 0.972653, 0.324815, 0.050351, 0.739968],\n",
    "    'Hemoglobin': [0.114755, 0.084998, 0.584467, 0.736, 0.597868],\n",
    "    'Platelets': [0.997927, 0.180909, 0.475748, 0.782022, 0.772683],\n",
    "    'White Blood Cells': [0.562604, 0.675736, 0.558596, 0.069435, 0.87572],\n",
    "    'Red Blood Cells': [0.866499, 0.563889, 0.661007, 0.085219, 0.860265],\n",
    "    'Hematocrit': [0.578042, 0.798382, 0.934056, 0.032907, 0.486189],\n",
    "    'Mean Corpuscular Volume': [0.914615, 0.670361, 0.381782, 0.460619, 0.486686],\n",
    "    'Mean Corpuscular Hemoglobin': [0.026864, 0.376092, 0.500342, 0.785448, 0.621048],\n",
    "    'Mean Corpuscular Hemoglobin Concentration': [0.038641, 0.18489, 0.531829, 0.491495, 0.191756],\n",
    "    'HbA1c': [0.65323, 0.83354, 0.678901, 0.3815, 0.993381],\n",
    "    'LDL Cholesterol': [0.186104, 0.153001, 0.220479, 0.459396, 0.272338],\n",
    "    'HDL Cholesterol': [0.430398, 0.458533, 0.817151, 0.420154, 0.663579],\n",
    "    'ALT': [0.016678, 0.401845, 0.690981, 0.798537, 0.265227],\n",
    "    'AST': [0.885352, 0.635969, 0.101633, 0.399236, 0.918847],\n",
    "    'Heart Rate': [0.652733, 0.574425, 0.85574, 0.3246, 0.80491],\n",
    "    'Creatinine': [0.788235, 0.047025, 0.551124, 0.499504, 0.571119],\n",
    "    'Troponin': [0.054788, 0.607985, 0.413294, 0.436662, 0.188368],\n",
    "    'C-reactive Protein': [0.031313, 0.594123, 0.070909, 0.242766, 0.750848],\n",
    "    'Disease': [1, 1, 1, 1, 1]  # Assuming 1 means diseased\n",
    "}\n",
    "\n",
    "df = pd.DataFrame(data)\n"
   ]
  },
  {
   "cell_type": "code",
   "execution_count": null,
   "id": "05bca213-6f83-481a-8f9c-adfa829de043",
   "metadata": {},
   "outputs": [],
   "source": [
    "from sklearn.model_selection import train_test_split\n",
    "from sklearn.preprocessing import LabelEncoder, OneHotEncoder\n",
    "\n",
    "# Encoding the target variable\n",
    "label_encoder = LabelEncoder()\n",
    "df['Disease'] = label_encoder.fit_transform(df['Disease'])\n",
    "\n",
    "# Separate features and target\n",
    "X = df.drop(columns=['Disease'])\n",
    "y = df['Disease']\n",
    "\n",
    "# Split the data\n",
    "X_train, X_test, y_train, y_test = train_test_split(X, y, test_size=0.2, random_state=42)"
   ]
  },
  {
   "cell_type": "code",
   "execution_count": null,
   "id": "250c2b29-1cec-4bd2-a2a7-bad95b055fab",
   "metadata": {},
   "outputs": [],
   "source": [
    "from sklearn import tree\n",
    "dtc = tree.DecisionTreeClassifier()\n",
    "dtc = dtc.fit(X_train,y_train)\n"
   ]
  },
  {
   "cell_type": "code",
   "execution_count": null,
   "id": "4ce7cd4b-6f9e-4b16-a8e6-0da81a4063e0",
   "metadata": {},
   "outputs": [],
   "source": [
    "# Example new patient data (normalized as the provided data)\n",
    "new_patient_data = {\n",
    "    'Glucose': 0.5,\n",
    "    'Cholesterol': 0.4,\n",
    "    'Hemoglobin': 0.6,\n",
    "    'Platelets': 0.7,\n",
    "    'White Blood Cells': 0.6,\n",
    "    'Red Blood Cells': 0.5,\n",
    "    'Hematocrit': 0.8,\n",
    "    'Mean Corpuscular Volume': 0.6,\n",
    "    'Mean Corpuscular Hemoglobin': 0.5,\n",
    "    'Mean Corpuscular Hemoglobin Concentration': 0.4,\n",
    "    'HbA1c': 0.7,\n",
    "    'LDL Cholesterol': 0.3,\n",
    "    'HDL Cholesterol': 0.6,\n",
    "    'ALT': 0.4,\n",
    "    'AST': 0.7,\n",
    "    'Heart Rate': 0.6,\n",
    "    'Creatinine': 0.5,\n",
    "    'Troponin': 0.4,\n",
    "    'C-reactive Protein': 0.6\n",
    "}\n",
    "\n",
    "# Convert new patient data to DataFrame\n",
    "new_patient_df = pd.DataFrame([new_patient_data])\n",
    "\n",
    "# Apply the same preprocessing (not needed in this case since it's already numerical)\n",
    "# new_patient_encoded = encoder.transform(new_patient_df)\n",
    "\n",
    "# Make a prediction\n",
    "prediction = dtc.predict(new_patient_df)\n",
    "\n",
    "# Convert prediction to the disease label\n",
    "predicted_disease = label_encoder.inverse_transform(prediction)\n",
    "\n",
    "if predicted_disease[0] == 1:\n",
    "    print(\"The patient is predicted to be diseased.\")\n",
    "else:\n",
    "    print(\"The patient is predicted to be healthy.\")\n"
   ]
  },
  {
   "cell_type": "code",
   "execution_count": null,
   "id": "b00cb2f3-2cc1-4071-8393-cbab7e92c1e4",
   "metadata": {},
   "outputs": [],
   "source": [
    "#Save model using Joblib"
   ]
  },
  {
   "cell_type": "code",
   "execution_count": null,
   "id": "555fd320-63a4-4030-a81a-4ee59d936340",
   "metadata": {},
   "outputs": [],
   "source": [
    "import joblib"
   ]
  },
  {
   "cell_type": "code",
   "execution_count": null,
   "id": "1eb7532e-e9c2-4b2b-ba13-dab83fd9f842",
   "metadata": {},
   "outputs": [],
   "source": [
    "joblib.dump(dtc, 'model_joblib_disease')"
   ]
  },
  {
   "cell_type": "code",
   "execution_count": null,
   "id": "c9bfc1e9-57f2-4719-aedf-80f025afa420",
   "metadata": {},
   "outputs": [],
   "source": [
    "model = joblib.load('model_joblib_disease')"
   ]
  },
  {
   "cell_type": "code",
   "execution_count": null,
   "id": "928ae741-3d13-4be2-892a-dd119f80cc97",
   "metadata": {},
   "outputs": [],
   "source": [
    "#Graphical user Interface"
   ]
  },
  {
   "cell_type": "code",
   "execution_count": null,
   "id": "09b9fc50-7f8b-436b-9159-5225c7951938",
   "metadata": {},
   "outputs": [],
   "source": [
    "import tkinter as tk\n",
    "from tkinter import Label, Button, Entry\n",
    "import joblib\n",
    "import threading\n",
    "\n",
    "def show_entry_fields():\n",
    "    try:\n",
    "        p1 = float(e1.get())\n",
    "        p2 = float(e2.get())\n",
    "        p3 = float(e3.get())\n",
    "        p4 = float(e4.get())\n",
    "        p5 = float(e5.get())\n",
    "        p6 = float(e6.get())\n",
    "        p7 = float(e7.get())\n",
    "        p8 = float(e8.get())\n",
    "        p9 = float(e9.get())\n",
    "        p10 = float(e10.get())\n",
    "        p11 = float(e11.get())\n",
    "        p12 = float(e12.get())\n",
    "        p13 = float(e13.get())\n",
    "        p14 = float(e14.get())\n",
    "        p15 = float(e15.get())\n",
    "        p16 = float(e16.get())\n",
    "        p17 = float(e17.get())\n",
    "        p18 = float(e18.get())\n",
    "        p19 = float(e19.get())\n",
    "        \n",
    "        model = joblib.load('model_joblib_disease')\n",
    "        result = model.predict([[p1, p2, p3, p4, p5, p6, p7, p8, p9, p10, p11, p12, p13, p14, p15, p16, p17, p18, p19]])\n",
    "\n",
    "        if result[0] == 0:\n",
    "            Label(master, text=\"The patient is predicted to be healthy\").grid(row=21, columnspan=2)\n",
    "        else:\n",
    "            Label(master, text=\"The patient is predicted to be diseased\").grid(row=21, columnspan=2)\n",
    "    except ValueError:\n",
    "        Label(master, text=\"Please enter valid numeric values\").grid(row=21, columnspan=2)\n",
    "\n",
    "def run_tkinter():\n",
    "    global master, e1, e2, e3, e4, e5, e6, e7, e8, e9, e10, e11, e12, e13, e14, e15, e16, e17, e18, e19\n",
    "\n",
    "    master = tk.Tk()\n",
    "    master.title(\"Disease Prediction\")\n",
    "\n",
    "    Label(master, text=\"Disease Prediction System\", bg=\"black\", fg=\"white\").grid(row=0, columnspan=2)\n",
    "\n",
    "    labels = [\n",
    "        \"Enter Glucose\", \"Enter Cholesterol\", \"Enter Hemoglobin\", \"Enter Platelets\", \n",
    "        \"Enter White Blood Cells\", \"Enter Red Blood Cells\", \"Enter Hematocrit\", \n",
    "        \"Enter Mean Corpuscular Volume\", \"Enter Mean Corpuscular Hemoglobin\", \n",
    "        \"Enter Mean Corpuscular Hemoglobin Concentration\", \"Enter HbA1c\", \n",
    "        \"Enter LDL Cholesterol\", \"Enter HDL Cholesterol\", \"Enter ALT\", \n",
    "        \"Enter AST\", \"Enter Heart Rate\", \"Enter Creatinine\", \"Enter Troponin\", \n",
    "        \"Enter C-reactive Protein\"\n",
    "    ]\n",
    "\n",
    "    entries = []\n",
    "    for i, label in enumerate(labels):\n",
    "        Label(master, text=label).grid(row=i+1)\n",
    "        entry = Entry(master)\n",
    "        entry.grid(row=i+1, column=1)\n",
    "        entries.append(entry)\n",
    "\n",
    "    e1, e2, e3, e4, e5, e6, e7, e8, e9, e10, e11, e12, e13, e14, e15, e16, e17, e18, e19 = entries\n",
    "\n",
    "    Button(master, text=\"Predict\", command=show_entry_fields).grid(row=20, columnspan=2)\n",
    "\n",
    "    master.mainloop()\n",
    "\n",
    "# Run the tkinter GUI in a separate thread\n",
    "thread = threading.Thread(target=run_tkinter)\n",
    "thread.start()\n",
    "\n",
    "           "
   ]
  }
 ],
 "metadata": {
  "kernelspec": {
   "display_name": "Python 3 (ipykernel)",
   "language": "python",
   "name": "python3"
  },
  "language_info": {
   "codemirror_mode": {
    "name": "ipython",
    "version": 3
   },
   "file_extension": ".py",
   "mimetype": "text/x-python",
   "name": "python",
   "nbconvert_exporter": "python",
   "pygments_lexer": "ipython3",
   "version": "3.12.3"
  }
 },
 "nbformat": 4,
 "nbformat_minor": 5
}
